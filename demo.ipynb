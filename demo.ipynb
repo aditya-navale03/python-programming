import pandas as pd
from deep_translator import GoogleTranslator
import os

def create_payment_csv(file_name, data):
    """Create a CSV file with the provided payment data."""
    df = pd.DataFrame(data)
    df.index = df.index + 1  # Start index from 1
    df.index.name = 'Index'  # Name the index to avoid "Unnamed" column
    df.to_csv(file_name, index=True, encoding='utf-8')  # Specify UTF-8 encoding
    print(f"Data saved to {file_name}")

def number_to_marathi(num):
    """Convert a number to its Marathi representation."""
    marathi_numerals = {
        0: '०', 1: '१', 2: '२', 3: '३', 4: '४', 
        5: '५', 6: '६', 7: '७', 8: '८', 9: '९'
    }

    # Convert the number to string to process each digit
    num_str = str(num)
    marathi_str = ''.join(marathi_numerals[int(digit)] for digit in num_str if digit.isdigit())

    return marathi_str

def get_user_data():
    """Collect user data for payment entries and translate names to Marathi."""
    data = []
    while True:
        # Get input from the user
        name = input("Enter Name in English (or type 'exit' to finish): ")
        if name.lower() == 'exit':  # Check if the user wants to exit
            break
        try:
            money_given = float(input("Enter Money Given: "))
            # Remove trailing zeros by converting to int if whole number
            if money_given.is_integer():
                money_given = int(money_given)  # Convert to integer if it is a whole number
        except ValueError:
            print("Please enter a valid number for Money Given.")
            continue  # Prompt again for the name
        
        # Translate the name to Marathi
        try:
            marathi_name = GoogleTranslator(source='en', target='mr').translate(name)
        except Exception as e:
            print(f"Error translating name: {e}")
            continue

        # Convert the money given to Marathi
        marathi_money = number_to_marathi(money_given)

        # Append the new record to the data list
        data.append({'Name': marathi_name, 'Money Given': marathi_money})

    return data

# Define the file name to save the CSV
file_name = 'College students data'

# Load existing data if the CSV file exists
data = []
if os.path.exists(file_name):
    try:
        # Read existing data
        existing_df = pd.read_csv(file_name, index_col=0)  # Use the first column as index
        # Convert to list of dictionaries
        data = existing_df.to_dict(orient='records')
    except Exception as e:
        print(f"Error reading existing data: {e}")

# Get user data and translate names
user_data = get_user_data()

# Combine existing data and user input
if user_data:
    data.extend(user_data)

# Create and save the CSV with combined data
if data:  # Check if there's any data to save
    create_payment_csv(file_name, data)

    # Read the CSV file to verify
    df = pd.read_csv(file_name, index_col=0)  # Use the first column as index
    # Print the DataFrame to verify the CSV content
    print(df)
else:
    print("No data entered. CSV file was not created.")
